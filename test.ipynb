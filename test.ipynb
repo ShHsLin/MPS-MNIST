{
 "cells": [
  {
   "cell_type": "code",
   "execution_count": 38,
   "metadata": {
    "collapsed": true
   },
   "outputs": [
    {
     "data": {
      "text/plain": "<module 'feature_maps' from 'C:\\\\Users\\\\OlivierKuijpers\\\\Documents\\\\MPS-MNIST\\\\feature_maps.py'>"
     },
     "execution_count": 38,
     "metadata": {},
     "output_type": "execute_result"
    }
   ],
   "source": [
    "from importlib import reload\n",
    "import mps_v2\n",
    "from mps_v2 import *\n",
    "reload(mps_v2)\n",
    "\n",
    "import useful_funcs\n",
    "from useful_funcs import *\n",
    "reload(useful_funcs)\n",
    "\n",
    "import feature_maps\n",
    "from feature_maps import *\n",
    "reload(feature_maps)"
   ]
  },
  {
   "cell_type": "code",
   "execution_count": 2,
   "outputs": [],
   "source": [
    "\n",
    "mnist_data_path = os.path.join('data', 'mnist.pkl.gz')\n",
    "\n",
    "data = load_data(mnist_data_path)\n",
    "train_data, val_data, test_data = data\n",
    "# train_data, val_data, test_data = 0,0,0\n",
    "\n",
    "train = DataPreprocessing(train_data, even_distribution=True, name='train', force_run=True, sort=True)\n",
    "val = DataPreprocessing(val_data, name='val', force_run=True)\n",
    "test = DataPreprocessing(test_data, name='test', force_run=True)"
   ],
   "metadata": {
    "collapsed": false,
    "pycharm": {
     "name": "#%%\n"
    }
   }
  },
  {
   "cell_type": "code",
   "execution_count": 3,
   "outputs": [
    {
     "name": "stdout",
     "output_type": "stream",
     "text": [
      "ortho\n",
      "Data already exists, loading data...\n",
      "original\n",
      "Data already exists, loading data...\n"
     ]
    }
   ],
   "source": [
    "print('ortho')\n",
    "train_orth = feature_maps.ortho(train.data)\n",
    "train_orth_normalized = normalize(train_orth, 'ortho')\n",
    "val_orth = feature_maps.ortho(val.data)\n",
    "\n",
    "print('original')\n",
    "train_origin = feature_maps.origin(train.data)\n",
    "train_origin_normalized = normalize(train_origin, 'original')\n",
    "val_origin = feature_maps.origin(val.data)"
   ],
   "metadata": {
    "collapsed": false,
    "pycharm": {
     "name": "#%%\n"
    }
   }
  },
  {
   "cell_type": "code",
   "execution_count": 4,
   "outputs": [],
   "source": [
    "# get_norms(train_normalized, printout=True)"
   ],
   "metadata": {
    "collapsed": false,
    "pycharm": {
     "name": "#%%\n"
    }
   }
  },
  {
   "cell_type": "code",
   "execution_count": 5,
   "outputs": [
    {
     "data": {
      "text/plain": "'(list(D),list(N),L,P,R)'"
     },
     "execution_count": 5,
     "metadata": {},
     "output_type": "execute_result"
    }
   ],
   "source": [
    "# c10 = pickle.load(open('results\\orthogonal\\cwfs\\cwfs_chi10_s1.p', 'rb'))\n",
    "# # c50 = pickle.load(open('results/orthogonal/cwfs/cwfs_chi50_s3.p', 'rb'))\n",
    "# pc2 = pickle.load(open('results/original/parallel_chi2.p', 'rb'))\n",
    "# c10org = pickle.load(open('results\\original\\cwfs\\cwfs_chi10_s1.p', 'rb'))\n",
    "\"\"\"(list(D),list(N),L,P,R)\"\"\""
   ],
   "metadata": {
    "collapsed": false,
    "pycharm": {
     "name": "#%%\n"
    }
   }
  },
  {
   "cell_type": "code",
   "execution_count": 29,
   "outputs": [
    {
     "name": "stdout",
     "output_type": "stream",
     "text": [
      "Data already exists, loading data...\n",
      "Data already exists, loading data...\n",
      "Sweeping through MPS\n"
     ]
    },
    {
     "name": "stderr",
     "output_type": "stream",
     "text": [
      "10it [00:07,  1.30it/s]\n"
     ]
    },
    {
     "data": {
      "text/plain": "--------------\nCompressed MPS: \n𝜒: 13\nmap: original\nsweeps: 3\npath: results\\original\\cwfs\\cwfs_chi13_s3.p      \n            "
     },
     "execution_count": 29,
     "metadata": {},
     "output_type": "execute_result"
    }
   ],
   "source": [
    "c = CompressedWFS(13, train_origin_normalized, 'original')\n",
    "nb_sweeps = 3\n",
    "for i in range(nb_sweeps):\n",
    "    c.sweep()\n",
    "c"
   ],
   "metadata": {
    "collapsed": false,
    "pycharm": {
     "name": "#%%\n"
    }
   }
  },
  {
   "cell_type": "code",
   "execution_count": 39,
   "outputs": [
    {
     "name": "stderr",
     "output_type": "stream",
     "text": [
      "10it [00:06,  1.60it/s]\n"
     ]
    },
    {
     "data": {
      "text/plain": "0.15487807125783262"
     },
     "execution_count": 39,
     "metadata": {},
     "output_type": "execute_result"
    }
   ],
   "source": [
    "get_truncation_overlap(c.wf_compressed, train_origin_normalized, average=True)"
   ],
   "metadata": {
    "collapsed": false,
    "pycharm": {
     "name": "#%%\n"
    }
   }
  }
 ],
 "metadata": {
  "kernelspec": {
   "display_name": "Python 3",
   "language": "python",
   "name": "python3"
  },
  "language_info": {
   "codemirror_mode": {
    "name": "ipython",
    "version": 2
   },
   "file_extension": ".py",
   "mimetype": "text/x-python",
   "name": "python",
   "nbconvert_exporter": "python",
   "pygments_lexer": "ipython2",
   "version": "2.7.6"
  }
 },
 "nbformat": 4,
 "nbformat_minor": 0
}